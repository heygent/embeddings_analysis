{
 "cells": [
  {
   "cell_type": "code",
   "execution_count": null,
   "id": "5c0c5e69",
   "metadata": {},
   "outputs": [],
   "source": [
    "%load_ext autoreload\n",
    "%autoreload 2"
   ]
  },
  {
   "cell_type": "code",
   "execution_count": null,
   "id": "d776b413",
   "metadata": {},
   "outputs": [],
   "source": [
    "import altair as alt\n",
    "from embeddings_analysis import EmbeddingsLoader\n",
    "\n",
    "from sklearn.decomposition import PCA, TruncatedSVD\n",
    "from sklearn.manifold import TSNE\n",
    "from umap import UMAP\n",
    "\n",
    "alt.data_transformers.disable_max_rows()\n",
    "alt.renderers.set_embed_options(theme=\"dark\")"
   ]
  },
  {
   "cell_type": "markdown",
   "id": "Hbol",
   "metadata": {},
   "source": [
    "# Numeric embedding analysis"
   ]
  },
  {
   "cell_type": "code",
   "execution_count": null,
   "id": "vblA",
   "metadata": {
    "tags": [
     "parameters"
    ]
   },
   "outputs": [],
   "source": [
    "model_id = \"allenai/OLMo-2-1124-7B\""
   ]
  },
  {
   "cell_type": "code",
   "execution_count": null,
   "id": "03c3f4ef",
   "metadata": {},
   "outputs": [],
   "source": [
    "loader = EmbeddingsLoader(model_id)\n",
    "loader.smallest_multitoken_number()"
   ]
  },
  {
   "cell_type": "code",
   "execution_count": null,
   "id": "fa1db73f",
   "metadata": {},
   "outputs": [],
   "source": [
    "# Loading the number embeddings and 1000 random embeddings for comparison\n",
    "\n",
    "number_embeddings = loader.numbers()\n",
    "random_embeddings = loader.random()\n",
    "\n",
    "number_embeddings.data.shape"
   ]
  },
  {
   "cell_type": "markdown",
   "id": "52aafb3a",
   "metadata": {},
   "source": [
    "# Linear Dimensionality Reduction"
   ]
  },
  {
   "cell_type": "markdown",
   "id": "5686bbce",
   "metadata": {},
   "source": [
    "## PCA"
   ]
  },
  {
   "cell_type": "code",
   "execution_count": null,
   "id": "2e7bf3f9",
   "metadata": {},
   "outputs": [],
   "source": [
    "number_pca = number_embeddings.dim_reduction(PCA(n_components=1000))\n",
    "random_pca = random_embeddings.dim_reduction(PCA(n_components=1000))\n",
    "\n",
    "alt.hconcat(number_pca.plot(), random_pca.plot()).resolve_scale(color=\"independent\")"
   ]
  },
  {
   "cell_type": "markdown",
   "id": "a278a1f8",
   "metadata": {},
   "source": [
    "## Explained variance"
   ]
  },
  {
   "cell_type": "code",
   "execution_count": null,
   "id": "7c9d861d",
   "metadata": {},
   "outputs": [],
   "source": [
    "number_pca.plot_variance_overview()"
   ]
  },
  {
   "cell_type": "markdown",
   "id": "18d07e10",
   "metadata": {},
   "source": [
    "## SVD"
   ]
  },
  {
   "cell_type": "code",
   "execution_count": null,
   "id": "2ebe30a3",
   "metadata": {},
   "outputs": [],
   "source": [
    "number_svd = number_embeddings.dim_reduction(TruncatedSVD(n_components=100))\n",
    "random_svd = random_embeddings.dim_reduction(TruncatedSVD(n_components=100))\n",
    "\n",
    "alt.hconcat(number_svd.plot(), random_svd.plot()).properties().resolve_scale(\n",
    "    color=\"independent\"\n",
    ")"
   ]
  },
  {
   "cell_type": "code",
   "execution_count": null,
   "id": "959d80fa",
   "metadata": {},
   "outputs": [],
   "source": [
    "number_svd.plot_digit_overview()"
   ]
  },
  {
   "cell_type": "code",
   "execution_count": null,
   "id": "028492bb",
   "metadata": {},
   "outputs": [],
   "source": [
    "random_svd = random_embeddings.dim_reduction(TruncatedSVD(n_components=100))\n",
    "alt.hconcat(\n",
    "    number_svd.plot_correlation_heatmap(20),\n",
    "    random_svd.plot_correlation_heatmap(20),\n",
    ")"
   ]
  },
  {
   "cell_type": "code",
   "execution_count": null,
   "id": "f650791d",
   "metadata": {},
   "outputs": [],
   "source": [
    "number_svd.plot_top_correlated_components()"
   ]
  },
  {
   "cell_type": "markdown",
   "id": "4758610e",
   "metadata": {},
   "source": [
    "# Non-Linear Dimensionality Reduction"
   ]
  },
  {
   "cell_type": "code",
   "execution_count": null,
   "id": "1855a15b",
   "metadata": {},
   "outputs": [],
   "source": [
    "tsne_kwargs = dict(\n",
    "    perplexity=75,\n",
    "    max_iter=3000,\n",
    "    learning_rate=500,\n",
    "    early_exaggeration=20,\n",
    "    random_state=42,\n",
    ")\n",
    "\n",
    "number_tsne = number_embeddings.dim_reduction(TSNE(**tsne_kwargs))\n",
    "random_tsne = random_embeddings.dim_reduction(TSNE(**tsne_kwargs))\n",
    "\n",
    "alt.hconcat(number_tsne.plot(), random_tsne.plot()).resolve_scale(color=\"independent\")\n"
   ]
  },
  {
   "cell_type": "code",
   "execution_count": null,
   "id": "991e5e38",
   "metadata": {},
   "outputs": [],
   "source": [
    "number_tsne.plot_digit_overview()"
   ]
  },
  {
   "cell_type": "code",
   "execution_count": null,
   "id": "1f5659dd",
   "metadata": {},
   "outputs": [],
   "source": [
    "\n",
    "umap_kwargs = dict()\n",
    "\n",
    "number_tsne = number_embeddings.dim_reduction(UMAP(**umap_kwargs))\n",
    "random_tsne = random_embeddings.dim_reduction(UMAP(**umap_kwargs))\n",
    "\n",
    "alt.hconcat(number_tsne.plot(), random_tsne.plot()).resolve_scale(color=\"independent\")\n"
   ]
  }
 ],
 "metadata": {
  "authors": [
   {
    "name": "Emanuele Gentiletti"
   }
  ],
  "kernelspec": {
   "display_name": ".venv",
   "language": "python",
   "name": "python3"
  },
  "language_info": {
   "codemirror_mode": {
    "name": "ipython",
    "version": 3
   },
   "file_extension": ".py",
   "mimetype": "text/x-python",
   "name": "python",
   "nbconvert_exporter": "python",
   "pygments_lexer": "ipython3",
   "version": "3.11.11"
  },
  "title": "Numerical Embeddings Analysis"
 },
 "nbformat": 4,
 "nbformat_minor": 5
}
