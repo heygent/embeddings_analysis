{
 "cells": [
  {
   "cell_type": "code",
   "execution_count": 1,
   "id": "cca7bb91",
   "metadata": {},
   "outputs": [
    {
     "data": {
      "text/plain": [
       "RendererRegistry.enable('default')"
      ]
     },
     "execution_count": 1,
     "metadata": {},
     "output_type": "execute_result"
    }
   ],
   "source": [
    "import altair as alt\n",
    "from component_patterns import analyze_number_embeddings\n",
    "from embeddings_analysis import EmbeddingsLoader\n",
    "\n",
    "alt.renderers.set_embed_options(theme='dark')"
   ]
  },
  {
   "cell_type": "code",
   "execution_count": 2,
   "id": "ee41c20c",
   "metadata": {},
   "outputs": [],
   "source": [
    "model_id = \"allenai/OLMo-2-1124-7B\""
   ]
  },
  {
   "cell_type": "code",
   "execution_count": 3,
   "id": "cdeccb45",
   "metadata": {},
   "outputs": [
    {
     "data": {
      "application/vnd.jupyter.widget-view+json": {
       "model_id": "882af0ff478d4e17ad73bc034db72c6d",
       "version_major": 2,
       "version_minor": 0
      },
      "text/plain": [
       "Loading checkpoint shards:   0%|          | 0/6 [00:00<?, ?it/s]"
      ]
     },
     "metadata": {},
     "output_type": "display_data"
    }
   ],
   "source": [
    "def make_viz():\n",
    "    loader = EmbeddingsLoader(model_id)\n",
    "    embeddings = loader.numbers()\n",
    "    return analyze_number_embeddings(embeddings)\n",
    "\n",
    "viz = make_viz()"
   ]
  },
  {
   "cell_type": "code",
   "execution_count": null,
   "id": "a48a90f2",
   "metadata": {},
   "outputs": [],
   "source": []
  },
  {
   "cell_type": "code",
   "execution_count": 4,
   "id": "94843367",
   "metadata": {},
   "outputs": [
    {
     "data": {
      "text/plain": [
       "{'component_pattern': alt.LayerChart(...),\n",
       " 'digit_heatmap': alt.LayerChart(...)}"
      ]
     },
     "execution_count": 4,
     "metadata": {},
     "output_type": "execute_result"
    }
   ],
   "source": [
    "viz"
   ]
  },
  {
   "cell_type": "code",
   "execution_count": 6,
   "id": "f61d3abc",
   "metadata": {},
   "outputs": [
    {
     "data": {
      "text/html": [
       "\n",
       "<style>\n",
       "  #altair-viz-1e0f0a10086c459daf37ff0315145f40.vega-embed {\n",
       "    width: 100%;\n",
       "    display: flex;\n",
       "  }\n",
       "\n",
       "  #altair-viz-1e0f0a10086c459daf37ff0315145f40.vega-embed details,\n",
       "  #altair-viz-1e0f0a10086c459daf37ff0315145f40.vega-embed details summary {\n",
       "    position: relative;\n",
       "  }\n",
       "</style>\n",
       "<div id=\"altair-viz-1e0f0a10086c459daf37ff0315145f40\"></div>\n",
       "<script type=\"text/javascript\">\n",
       "  var VEGA_DEBUG = (typeof VEGA_DEBUG == \"undefined\") ? {} : VEGA_DEBUG;\n",
       "  (function(spec, embedOpt){\n",
       "    let outputDiv = document.currentScript.previousElementSibling;\n",
       "    if (outputDiv.id !== \"altair-viz-1e0f0a10086c459daf37ff0315145f40\") {\n",
       "      outputDiv = document.getElementById(\"altair-viz-1e0f0a10086c459daf37ff0315145f40\");\n",
       "    }\n",
       "\n",
       "    const paths = {\n",
       "      \"vega\": \"https://cdn.jsdelivr.net/npm/vega@5?noext\",\n",
       "      \"vega-lib\": \"https://cdn.jsdelivr.net/npm/vega-lib?noext\",\n",
       "      \"vega-lite\": \"https://cdn.jsdelivr.net/npm/vega-lite@5.20.1?noext\",\n",
       "      \"vega-embed\": \"https://cdn.jsdelivr.net/npm/vega-embed@6?noext\",\n",
       "    };\n",
       "\n",
       "    function maybeLoadScript(lib, version) {\n",
       "      var key = `${lib.replace(\"-\", \"\")}_version`;\n",
       "      return (VEGA_DEBUG[key] == version) ?\n",
       "        Promise.resolve(paths[lib]) :\n",
       "        new Promise(function(resolve, reject) {\n",
       "          var s = document.createElement('script');\n",
       "          document.getElementsByTagName(\"head\")[0].appendChild(s);\n",
       "          s.async = true;\n",
       "          s.onload = () => {\n",
       "            VEGA_DEBUG[key] = version;\n",
       "            return resolve(paths[lib]);\n",
       "          };\n",
       "          s.onerror = () => reject(`Error loading script: ${paths[lib]}`);\n",
       "          s.src = paths[lib];\n",
       "        });\n",
       "    }\n",
       "\n",
       "    function showError(err) {\n",
       "      outputDiv.innerHTML = `<div class=\"error\" style=\"color:red;\">${err}</div>`;\n",
       "      throw err;\n",
       "    }\n",
       "\n",
       "    function displayChart(vegaEmbed) {\n",
       "      vegaEmbed(outputDiv, spec, embedOpt)\n",
       "        .catch(err => showError(`Javascript Error: ${err.message}<br>This usually means there's a typo in your chart specification. See the javascript console for the full traceback.`));\n",
       "    }\n",
       "\n",
       "    if(typeof define === \"function\" && define.amd) {\n",
       "      requirejs.config({paths});\n",
       "      let deps = [\"vega-embed\"];\n",
       "      require(deps, displayChart, err => showError(`Error loading script: ${err.message}`));\n",
       "    } else {\n",
       "      maybeLoadScript(\"vega\", \"5\")\n",
       "        .then(() => maybeLoadScript(\"vega-lite\", \"5.20.1\"))\n",
       "        .then(() => maybeLoadScript(\"vega-embed\", \"6\"))\n",
       "        .catch(showError)\n",
       "        .then(() => displayChart(vegaEmbed));\n",
       "    }\n",
       "  })({\"config\": {\"view\": {\"continuousWidth\": 300, \"continuousHeight\": 300}}, \"vconcat\": [{\"layer\": [{\"mark\": {\"type\": \"line\", \"opacity\": 0.7}, \"encoding\": {\"color\": {\"field\": \"OnesDigit\", \"legend\": {\"labelFontSize\": 12, \"titleFontSize\": 12}, \"scale\": {\"scheme\": \"category10\"}, \"title\": \"Ones Digit\", \"type\": \"nominal\"}, \"x\": {\"axis\": {\"labelFontSize\": 12, \"titleFontSize\": 14}, \"field\": \"Number\", \"title\": \"Number\", \"type\": \"quantitative\"}, \"y\": {\"axis\": {\"labelFontSize\": 12, \"titleFontSize\": 14}, \"field\": \"Value\", \"title\": \"Component 5 Value\", \"type\": \"quantitative\"}}, \"name\": \"view_2\"}, {\"mark\": {\"type\": \"circle\", \"size\": 80}, \"encoding\": {\"color\": {\"field\": \"OnesDigit\", \"type\": \"nominal\"}, \"tooltip\": [{\"field\": \"Number\", \"type\": \"quantitative\"}, {\"field\": \"Value\", \"type\": \"quantitative\"}, {\"field\": \"OnesDigit\", \"type\": \"quantitative\"}, {\"field\": \"TensDigit\", \"type\": \"quantitative\"}], \"x\": {\"field\": \"Number\", \"type\": \"quantitative\"}, \"y\": {\"field\": \"Value\", \"type\": \"quantitative\"}}}, {\"data\": {\"name\": \"data-3249818c4bff053e959e402d8068e461\"}, \"mark\": {\"type\": \"text\", \"align\": \"center\", \"baseline\": \"bottom\", \"dy\": -10, \"fontSize\": 12}, \"encoding\": {\"text\": {\"field\": \"Number\", \"type\": \"nominal\"}, \"x\": {\"field\": \"Number\", \"type\": \"quantitative\"}, \"y\": {\"field\": \"Value\", \"type\": \"quantitative\"}}}], \"data\": {\"name\": \"data-ab4466df850f1933fadacdf1629fde77\"}, \"height\": 500, \"title\": {\"text\": \"(allenai/OLMo-2-1124-7B) Number embeddings between 0-999: Component 5 Pattern by Digit\", \"fontSize\": 16}, \"width\": 900}, {\"layer\": [{\"mark\": {\"type\": \"rect\"}, \"encoding\": {\"color\": {\"field\": \"Response\", \"legend\": {\"labelFontSize\": 12, \"titleFontSize\": 12}, \"scale\": {\"domain\": [-0.3, 0.3], \"scheme\": \"blueorange\"}, \"type\": \"quantitative\"}, \"tooltip\": [{\"field\": \"Component\", \"type\": \"nominal\"}, {\"field\": \"Digit\", \"type\": \"quantitative\"}, {\"field\": \"Response\", \"type\": \"quantitative\"}], \"x\": {\"axis\": {\"labelFontSize\": 12, \"titleFontSize\": 14}, \"field\": \"Digit\", \"title\": \"Ones Digit\", \"type\": \"ordinal\"}, \"y\": {\"axis\": {\"labelFontSize\": 12, \"titleFontSize\": 14}, \"field\": \"Component\", \"sort\": {\"field\": \"ComponentIndex\"}, \"title\": \"Component\", \"type\": \"nominal\"}}, \"name\": \"view_3\", \"title\": {\"text\": \"(allenai/OLMo-2-1124-7B) Number embeddings between 0-999: How Components Encode Digit Patterns\", \"fontSize\": 16}}, {\"mark\": {\"type\": \"text\", \"color\": \"black\", \"fontSize\": 10}, \"encoding\": {\"text\": {\"field\": \"Response\", \"format\": \".2f\", \"type\": \"quantitative\"}, \"x\": {\"field\": \"Digit\", \"type\": \"ordinal\"}, \"y\": {\"field\": \"Component\", \"type\": \"nominal\"}}}], \"data\": {\"name\": \"data-3792f8e1cd5caf400e2567cf16b6613a\"}, \"height\": 400, \"width\": 600}], \"params\": [{\"name\": \"param_1\", \"select\": {\"type\": \"interval\", \"encodings\": [\"x\", \"y\"]}, \"bind\": \"scales\", \"views\": [\"view_2\"]}, {\"name\": \"param_2\", \"select\": {\"type\": \"interval\", \"encodings\": [\"x\", \"y\"]}, \"bind\": \"scales\", \"views\": [\"view_3\"]}], \"$schema\": \"https://vega.github.io/schema/vega-lite/v5.20.1.json\", \"datasets\": {\"data-ab4466df850f1933fadacdf1629fde77\": [{\"Number\": 0, \"Value\": 0.0027392636984586716, \"OnesDigit\": 0, \"TensDigit\": 0}, {\"Number\": 1, \"Value\": 0.01600499264895916, \"OnesDigit\": 1, \"TensDigit\": 0}, {\"Number\": 2, \"Value\": 0.007940925657749176, \"OnesDigit\": 2, \"TensDigit\": 0}, {\"Number\": 3, \"Value\": 0.016716541722416878, \"OnesDigit\": 3, \"TensDigit\": 0}, {\"Number\": 4, \"Value\": -0.00039135562838055193, \"OnesDigit\": 4, \"TensDigit\": 0}, {\"Number\": 5, \"Value\": -0.019556649029254913, \"OnesDigit\": 5, \"TensDigit\": 0}, {\"Number\": 6, \"Value\": -0.0009770719334483147, \"OnesDigit\": 6, \"TensDigit\": 0}, {\"Number\": 7, \"Value\": -0.0009234629105776548, \"OnesDigit\": 7, \"TensDigit\": 0}, {\"Number\": 8, \"Value\": -0.02362588606774807, \"OnesDigit\": 8, \"TensDigit\": 0}, {\"Number\": 9, \"Value\": -0.014444597996771336, \"OnesDigit\": 9, \"TensDigit\": 0}, {\"Number\": 10, \"Value\": 0.007377194240689278, \"OnesDigit\": 0, \"TensDigit\": 1}, {\"Number\": 11, \"Value\": -0.010918802581727505, \"OnesDigit\": 1, \"TensDigit\": 1}, {\"Number\": 12, \"Value\": 0.005889481864869595, \"OnesDigit\": 2, \"TensDigit\": 1}, {\"Number\": 13, \"Value\": 0.01013961061835289, \"OnesDigit\": 3, \"TensDigit\": 1}, {\"Number\": 14, \"Value\": -0.0003136647283099592, \"OnesDigit\": 4, \"TensDigit\": 1}, {\"Number\": 15, \"Value\": 0.007303223013877869, \"OnesDigit\": 5, \"TensDigit\": 1}, {\"Number\": 16, \"Value\": -0.0026436953339725733, \"OnesDigit\": 6, \"TensDigit\": 1}, {\"Number\": 17, \"Value\": 0.010670624673366547, \"OnesDigit\": 7, \"TensDigit\": 1}, {\"Number\": 18, \"Value\": -0.0036300276406109333, \"OnesDigit\": 8, \"TensDigit\": 1}, {\"Number\": 19, \"Value\": -0.00545959547162056, \"OnesDigit\": 9, \"TensDigit\": 1}, {\"Number\": 20, \"Value\": -0.004106609616428614, \"OnesDigit\": 0, \"TensDigit\": 2}, {\"Number\": 21, \"Value\": 0.010800892487168312, \"OnesDigit\": 1, \"TensDigit\": 2}, {\"Number\": 22, \"Value\": 0.015427989885210991, \"OnesDigit\": 2, \"TensDigit\": 2}, {\"Number\": 23, \"Value\": -0.013860947452485561, \"OnesDigit\": 3, \"TensDigit\": 2}, {\"Number\": 24, \"Value\": -0.026233956217765808, \"OnesDigit\": 4, \"TensDigit\": 2}, {\"Number\": 25, \"Value\": -0.0013179857051, \"OnesDigit\": 5, \"TensDigit\": 2}, {\"Number\": 26, \"Value\": 0.0002708171377889812, \"OnesDigit\": 6, \"TensDigit\": 2}, {\"Number\": 27, \"Value\": -0.011338888667523861, \"OnesDigit\": 7, \"TensDigit\": 2}, {\"Number\": 28, \"Value\": -0.005244847387075424, \"OnesDigit\": 8, \"TensDigit\": 2}, {\"Number\": 29, \"Value\": 0.013466503471136093, \"OnesDigit\": 9, \"TensDigit\": 2}, {\"Number\": 30, \"Value\": -0.007588251959532499, \"OnesDigit\": 0, \"TensDigit\": 3}, {\"Number\": 31, \"Value\": 0.007125901523977518, \"OnesDigit\": 1, \"TensDigit\": 3}, {\"Number\": 32, \"Value\": -0.023385467007756233, \"OnesDigit\": 2, \"TensDigit\": 3}, {\"Number\": 33, \"Value\": 0.03581108897924423, \"OnesDigit\": 3, \"TensDigit\": 3}, {\"Number\": 34, \"Value\": -0.015070431865751743, \"OnesDigit\": 4, \"TensDigit\": 3}, {\"Number\": 35, \"Value\": 0.023683125153183937, \"OnesDigit\": 5, \"TensDigit\": 3}, {\"Number\": 36, \"Value\": 0.015527328476309776, \"OnesDigit\": 6, \"TensDigit\": 3}, {\"Number\": 37, \"Value\": 0.01505259145051241, \"OnesDigit\": 7, \"TensDigit\": 3}, {\"Number\": 38, \"Value\": 0.0034022496547549963, \"OnesDigit\": 8, \"TensDigit\": 3}, {\"Number\": 39, \"Value\": -0.01740606129169464, \"OnesDigit\": 9, \"TensDigit\": 3}, {\"Number\": 40, \"Value\": -0.003964869771152735, \"OnesDigit\": 0, \"TensDigit\": 4}, {\"Number\": 41, \"Value\": -0.010136915370821953, \"OnesDigit\": 1, \"TensDigit\": 4}, {\"Number\": 42, \"Value\": 0.004926896188408136, \"OnesDigit\": 2, \"TensDigit\": 4}, {\"Number\": 43, \"Value\": 0.020788174122571945, \"OnesDigit\": 3, \"TensDigit\": 4}, {\"Number\": 44, \"Value\": -0.013669457286596298, \"OnesDigit\": 4, \"TensDigit\": 4}, {\"Number\": 45, \"Value\": -0.008506218902766705, \"OnesDigit\": 5, \"TensDigit\": 4}, {\"Number\": 46, \"Value\": 0.0028628844302147627, \"OnesDigit\": 6, \"TensDigit\": 4}, {\"Number\": 47, \"Value\": -0.011206185445189476, \"OnesDigit\": 7, \"TensDigit\": 4}, {\"Number\": 48, \"Value\": 0.003024951322004199, \"OnesDigit\": 8, \"TensDigit\": 4}, {\"Number\": 49, \"Value\": -0.002113970462232828, \"OnesDigit\": 9, \"TensDigit\": 4}, {\"Number\": 50, \"Value\": 0.006040424108505249, \"OnesDigit\": 0, \"TensDigit\": 5}, {\"Number\": 51, \"Value\": -0.0002522289287298918, \"OnesDigit\": 1, \"TensDigit\": 5}, {\"Number\": 52, \"Value\": -0.028825819492340088, \"OnesDigit\": 2, \"TensDigit\": 5}, {\"Number\": 53, \"Value\": 0.022816559299826622, \"OnesDigit\": 3, \"TensDigit\": 5}, {\"Number\": 54, \"Value\": -0.003220775630325079, \"OnesDigit\": 4, \"TensDigit\": 5}, {\"Number\": 55, \"Value\": -0.004713247064501047, \"OnesDigit\": 5, \"TensDigit\": 5}, {\"Number\": 56, \"Value\": 0.0027997582219541073, \"OnesDigit\": 6, \"TensDigit\": 5}, {\"Number\": 57, \"Value\": -0.021958647295832634, \"OnesDigit\": 7, \"TensDigit\": 5}, {\"Number\": 58, \"Value\": 0.004933040123432875, \"OnesDigit\": 8, \"TensDigit\": 5}, {\"Number\": 59, \"Value\": 0.03565874323248863, \"OnesDigit\": 9, \"TensDigit\": 5}, {\"Number\": 60, \"Value\": 0.0037406582850962877, \"OnesDigit\": 0, \"TensDigit\": 6}, {\"Number\": 61, \"Value\": -0.015285640954971313, \"OnesDigit\": 1, \"TensDigit\": 6}, {\"Number\": 62, \"Value\": -0.024114932864904404, \"OnesDigit\": 2, \"TensDigit\": 6}, {\"Number\": 63, \"Value\": -0.008124523796141148, \"OnesDigit\": 3, \"TensDigit\": 6}, {\"Number\": 64, \"Value\": 0.018855316564440727, \"OnesDigit\": 4, \"TensDigit\": 6}, {\"Number\": 65, \"Value\": -0.0016460833139717579, \"OnesDigit\": 5, \"TensDigit\": 6}, {\"Number\": 66, \"Value\": -0.01531386561691761, \"OnesDigit\": 6, \"TensDigit\": 6}, {\"Number\": 67, \"Value\": -0.00865497812628746, \"OnesDigit\": 7, \"TensDigit\": 6}, {\"Number\": 68, \"Value\": 0.00023585908638779074, \"OnesDigit\": 8, \"TensDigit\": 6}, {\"Number\": 69, \"Value\": -0.013624852523207664, \"OnesDigit\": 9, \"TensDigit\": 6}, {\"Number\": 70, \"Value\": -0.00400501349940896, \"OnesDigit\": 0, \"TensDigit\": 7}, {\"Number\": 71, \"Value\": -0.023192744702100754, \"OnesDigit\": 1, \"TensDigit\": 7}, {\"Number\": 72, \"Value\": -0.004056653007864952, \"OnesDigit\": 2, \"TensDigit\": 7}, {\"Number\": 73, \"Value\": -0.008225205354392529, \"OnesDigit\": 3, \"TensDigit\": 7}, {\"Number\": 74, \"Value\": -0.00118881999514997, \"OnesDigit\": 4, \"TensDigit\": 7}, {\"Number\": 75, \"Value\": -0.011520346626639366, \"OnesDigit\": 5, \"TensDigit\": 7}, {\"Number\": 76, \"Value\": -0.023245878517627716, \"OnesDigit\": 6, \"TensDigit\": 7}, {\"Number\": 77, \"Value\": -0.01686987653374672, \"OnesDigit\": 7, \"TensDigit\": 7}, {\"Number\": 78, \"Value\": -0.010291838087141514, \"OnesDigit\": 8, \"TensDigit\": 7}, {\"Number\": 79, \"Value\": 0.0060760751366615295, \"OnesDigit\": 9, \"TensDigit\": 7}, {\"Number\": 80, \"Value\": -0.007910899817943573, \"OnesDigit\": 0, \"TensDigit\": 8}, {\"Number\": 81, \"Value\": 0.003323315642774105, \"OnesDigit\": 1, \"TensDigit\": 8}, {\"Number\": 82, \"Value\": -0.0112853879109025, \"OnesDigit\": 2, \"TensDigit\": 8}, {\"Number\": 83, \"Value\": 0.025052517652511597, \"OnesDigit\": 3, \"TensDigit\": 8}, {\"Number\": 84, \"Value\": -0.0027989933732897043, \"OnesDigit\": 4, \"TensDigit\": 8}, {\"Number\": 85, \"Value\": -0.009852996096014977, \"OnesDigit\": 5, \"TensDigit\": 8}, {\"Number\": 86, \"Value\": -0.0003918331058230251, \"OnesDigit\": 6, \"TensDigit\": 8}, {\"Number\": 87, \"Value\": -0.0035466535482555628, \"OnesDigit\": 7, \"TensDigit\": 8}, {\"Number\": 88, \"Value\": 0.004958068020641804, \"OnesDigit\": 8, \"TensDigit\": 8}, {\"Number\": 89, \"Value\": 0.02311544492840767, \"OnesDigit\": 9, \"TensDigit\": 8}, {\"Number\": 90, \"Value\": -0.0016090794233605266, \"OnesDigit\": 0, \"TensDigit\": 9}, {\"Number\": 91, \"Value\": 0.03292158618569374, \"OnesDigit\": 1, \"TensDigit\": 9}, {\"Number\": 92, \"Value\": -0.011293675750494003, \"OnesDigit\": 2, \"TensDigit\": 9}, {\"Number\": 93, \"Value\": -0.01569472998380661, \"OnesDigit\": 3, \"TensDigit\": 9}, {\"Number\": 94, \"Value\": 0.012464504688978195, \"OnesDigit\": 4, \"TensDigit\": 9}, {\"Number\": 95, \"Value\": 0.01853981986641884, \"OnesDigit\": 5, \"TensDigit\": 9}, {\"Number\": 96, \"Value\": -0.016256578266620636, \"OnesDigit\": 6, \"TensDigit\": 9}, {\"Number\": 97, \"Value\": 0.011612093076109886, \"OnesDigit\": 7, \"TensDigit\": 9}, {\"Number\": 98, \"Value\": -0.024563269689679146, \"OnesDigit\": 8, \"TensDigit\": 9}, {\"Number\": 99, \"Value\": 0.022737259045243263, \"OnesDigit\": 9, \"TensDigit\": 9}], \"data-3249818c4bff053e959e402d8068e461\": [{\"Number\": 0, \"Value\": 0.0027392636984586716, \"OnesDigit\": 0, \"TensDigit\": 0}, {\"Number\": 10, \"Value\": 0.007377194240689278, \"OnesDigit\": 0, \"TensDigit\": 1}, {\"Number\": 20, \"Value\": -0.004106609616428614, \"OnesDigit\": 0, \"TensDigit\": 2}, {\"Number\": 30, \"Value\": -0.007588251959532499, \"OnesDigit\": 0, \"TensDigit\": 3}, {\"Number\": 40, \"Value\": -0.003964869771152735, \"OnesDigit\": 0, \"TensDigit\": 4}, {\"Number\": 50, \"Value\": 0.006040424108505249, \"OnesDigit\": 0, \"TensDigit\": 5}, {\"Number\": 60, \"Value\": 0.0037406582850962877, \"OnesDigit\": 0, \"TensDigit\": 6}, {\"Number\": 70, \"Value\": -0.00400501349940896, \"OnesDigit\": 0, \"TensDigit\": 7}, {\"Number\": 80, \"Value\": -0.007910899817943573, \"OnesDigit\": 0, \"TensDigit\": 8}, {\"Number\": 90, \"Value\": -0.0016090794233605266, \"OnesDigit\": 0, \"TensDigit\": 9}], \"data-3792f8e1cd5caf400e2567cf16b6613a\": [{\"Component\": \"Component 1\", \"ComponentIndex\": 1, \"Digit\": 0, \"Response\": -0.009286557324230671}, {\"Component\": \"Component 1\", \"ComponentIndex\": 1, \"Digit\": 1, \"Response\": 0.005512307398021221}, {\"Component\": \"Component 1\", \"ComponentIndex\": 1, \"Digit\": 2, \"Response\": 0.00882661435753107}, {\"Component\": \"Component 1\", \"ComponentIndex\": 1, \"Digit\": 3, \"Response\": -0.0022091777063906193}, {\"Component\": \"Component 1\", \"ComponentIndex\": 1, \"Digit\": 4, \"Response\": -0.0021220233757048845}, {\"Component\": \"Component 1\", \"ComponentIndex\": 1, \"Digit\": 5, \"Response\": -0.005820722784847021}, {\"Component\": \"Component 1\", \"ComponentIndex\": 1, \"Digit\": 6, \"Response\": 0.004306106362491846}, {\"Component\": \"Component 1\", \"ComponentIndex\": 1, \"Digit\": 7, \"Response\": 0.016825377941131592}, {\"Component\": \"Component 1\", \"ComponentIndex\": 1, \"Digit\": 8, \"Response\": -0.0034978599287569523}, {\"Component\": \"Component 1\", \"ComponentIndex\": 1, \"Digit\": 9, \"Response\": -0.0015335765201598406}, {\"Component\": \"Component 2\", \"ComponentIndex\": 2, \"Digit\": 0, \"Response\": -0.008164669387042522}, {\"Component\": \"Component 2\", \"ComponentIndex\": 2, \"Digit\": 1, \"Response\": 0.00043221437954343855}, {\"Component\": \"Component 2\", \"ComponentIndex\": 2, \"Digit\": 2, \"Response\": -0.006623788271099329}, {\"Component\": \"Component 2\", \"ComponentIndex\": 2, \"Digit\": 3, \"Response\": 0.01052544079720974}, {\"Component\": \"Component 2\", \"ComponentIndex\": 2, \"Digit\": 4, \"Response\": -0.003993695601820946}, {\"Component\": \"Component 2\", \"ComponentIndex\": 2, \"Digit\": 5, \"Response\": -0.012380075640976429}, {\"Component\": \"Component 2\", \"ComponentIndex\": 2, \"Digit\": 6, \"Response\": -0.0009169286931864917}, {\"Component\": \"Component 2\", \"ComponentIndex\": 2, \"Digit\": 7, \"Response\": -0.005161842796951532}, {\"Component\": \"Component 2\", \"ComponentIndex\": 2, \"Digit\": 8, \"Response\": 0.006820741109549999}, {\"Component\": \"Component 2\", \"ComponentIndex\": 2, \"Digit\": 9, \"Response\": -0.0007881183410063386}, {\"Component\": \"Component 3\", \"ComponentIndex\": 3, \"Digit\": 0, \"Response\": -0.005389516241848469}, {\"Component\": \"Component 3\", \"ComponentIndex\": 3, \"Digit\": 1, \"Response\": 0.0028170410078018904}, {\"Component\": \"Component 3\", \"ComponentIndex\": 3, \"Digit\": 2, \"Response\": -0.0060489666648209095}, {\"Component\": \"Component 3\", \"ComponentIndex\": 3, \"Digit\": 3, \"Response\": 0.008140170946717262}, {\"Component\": \"Component 3\", \"ComponentIndex\": 3, \"Digit\": 4, \"Response\": 0.00854748860001564}, {\"Component\": \"Component 3\", \"ComponentIndex\": 3, \"Digit\": 5, \"Response\": 0.0010510154534131289}, {\"Component\": \"Component 3\", \"ComponentIndex\": 3, \"Digit\": 6, \"Response\": 0.0006745227728970349}, {\"Component\": \"Component 3\", \"ComponentIndex\": 3, \"Digit\": 7, \"Response\": -0.004192070569843054}, {\"Component\": \"Component 3\", \"ComponentIndex\": 3, \"Digit\": 8, \"Response\": 0.0008523128926753998}, {\"Component\": \"Component 3\", \"ComponentIndex\": 3, \"Digit\": 9, \"Response\": 0.00411219010129571}, {\"Component\": \"Component 4\", \"ComponentIndex\": 4, \"Digit\": 0, \"Response\": -0.0023542814888060093}, {\"Component\": \"Component 4\", \"ComponentIndex\": 4, \"Digit\": 1, \"Response\": 0.0001859713374869898}, {\"Component\": \"Component 4\", \"ComponentIndex\": 4, \"Digit\": 2, \"Response\": 0.0037343769799917936}, {\"Component\": \"Component 4\", \"ComponentIndex\": 4, \"Digit\": 3, \"Response\": 0.003918333910405636}, {\"Component\": \"Component 4\", \"ComponentIndex\": 4, \"Digit\": 4, \"Response\": 0.005284534767270088}, {\"Component\": \"Component 4\", \"ComponentIndex\": 4, \"Digit\": 5, \"Response\": 0.011362597346305847}, {\"Component\": \"Component 4\", \"ComponentIndex\": 4, \"Digit\": 6, \"Response\": 0.00033427850576117635}, {\"Component\": \"Component 4\", \"ComponentIndex\": 4, \"Digit\": 7, \"Response\": 0.011488844640552998}, {\"Component\": \"Component 4\", \"ComponentIndex\": 4, \"Digit\": 8, \"Response\": 0.0010064867092296481}, {\"Component\": \"Component 4\", \"ComponentIndex\": 4, \"Digit\": 9, \"Response\": 0.005331917200237513}, {\"Component\": \"Component 5\", \"ComponentIndex\": 5, \"Digit\": 0, \"Response\": -0.0009287184220738709}, {\"Component\": \"Component 5\", \"ComponentIndex\": 5, \"Digit\": 1, \"Response\": 0.0010390356183052063}, {\"Component\": \"Component 5\", \"ComponentIndex\": 5, \"Digit\": 2, \"Response\": -0.006877663545310497}, {\"Component\": \"Component 5\", \"ComponentIndex\": 5, \"Digit\": 3, \"Response\": 0.008541908115148544}, {\"Component\": \"Component 5\", \"ComponentIndex\": 5, \"Digit\": 4, \"Response\": -0.003156763268634677}, {\"Component\": \"Component 5\", \"ComponentIndex\": 5, \"Digit\": 5, \"Response\": -0.0007587358122691512}, {\"Component\": \"Component 5\", \"ComponentIndex\": 5, \"Digit\": 6, \"Response\": -0.0037368133198469877}, {\"Component\": \"Component 5\", \"ComponentIndex\": 5, \"Digit\": 7, \"Response\": -0.00371633842587471}, {\"Component\": \"Component 5\", \"ComponentIndex\": 5, \"Digit\": 8, \"Response\": -0.005080169998109341}, {\"Component\": \"Component 5\", \"ComponentIndex\": 5, \"Digit\": 9, \"Response\": 0.004800494760274887}, {\"Component\": \"Component 6\", \"ComponentIndex\": 6, \"Digit\": 0, \"Response\": -0.0020428765565156937}, {\"Component\": \"Component 6\", \"ComponentIndex\": 6, \"Digit\": 1, \"Response\": 0.003971490543335676}, {\"Component\": \"Component 6\", \"ComponentIndex\": 6, \"Digit\": 2, \"Response\": -0.0017430402804166079}, {\"Component\": \"Component 6\", \"ComponentIndex\": 6, \"Digit\": 3, \"Response\": 0.0021553055848926306}, {\"Component\": \"Component 6\", \"ComponentIndex\": 6, \"Digit\": 4, \"Response\": 0.00431761983782053}, {\"Component\": \"Component 6\", \"ComponentIndex\": 6, \"Digit\": 5, \"Response\": 0.0024347580038011074}, {\"Component\": \"Component 6\", \"ComponentIndex\": 6, \"Digit\": 6, \"Response\": 0.0041070966981351376}, {\"Component\": \"Component 6\", \"ComponentIndex\": 6, \"Digit\": 7, \"Response\": 0.0035321549512445927}, {\"Component\": \"Component 6\", \"ComponentIndex\": 6, \"Digit\": 8, \"Response\": -0.0001508455752627924}, {\"Component\": \"Component 6\", \"ComponentIndex\": 6, \"Digit\": 9, \"Response\": 0.0020646967459470034}, {\"Component\": \"Component 7\", \"ComponentIndex\": 7, \"Digit\": 0, \"Response\": -0.0008405130356550217}, {\"Component\": \"Component 7\", \"ComponentIndex\": 7, \"Digit\": 1, \"Response\": 0.005880926735699177}, {\"Component\": \"Component 7\", \"ComponentIndex\": 7, \"Digit\": 2, \"Response\": 0.0004171336186118424}, {\"Component\": \"Component 7\", \"ComponentIndex\": 7, \"Digit\": 3, \"Response\": -0.0060091582126915455}, {\"Component\": \"Component 7\", \"ComponentIndex\": 7, \"Digit\": 4, \"Response\": -0.0035863607190549374}, {\"Component\": \"Component 7\", \"ComponentIndex\": 7, \"Digit\": 5, \"Response\": 0.00896616280078888}, {\"Component\": \"Component 7\", \"ComponentIndex\": 7, \"Digit\": 6, \"Response\": -0.0025986803229898214}, {\"Component\": \"Component 7\", \"ComponentIndex\": 7, \"Digit\": 7, \"Response\": -0.003119633998721838}, {\"Component\": \"Component 7\", \"ComponentIndex\": 7, \"Digit\": 8, \"Response\": -0.006425364408642054}, {\"Component\": \"Component 7\", \"ComponentIndex\": 7, \"Digit\": 9, \"Response\": 0.00791116151958704}, {\"Component\": \"Component 8\", \"ComponentIndex\": 8, \"Digit\": 0, \"Response\": -0.001726676942780614}, {\"Component\": \"Component 8\", \"ComponentIndex\": 8, \"Digit\": 1, \"Response\": 0.002289576455950737}, {\"Component\": \"Component 8\", \"ComponentIndex\": 8, \"Digit\": 2, \"Response\": -0.01262044720351696}, {\"Component\": \"Component 8\", \"ComponentIndex\": 8, \"Digit\": 3, \"Response\": 0.008256299421191216}, {\"Component\": \"Component 8\", \"ComponentIndex\": 8, \"Digit\": 4, \"Response\": -0.007000951562076807}, {\"Component\": \"Component 8\", \"ComponentIndex\": 8, \"Digit\": 5, \"Response\": 0.0012966750655323267}, {\"Component\": \"Component 8\", \"ComponentIndex\": 8, \"Digit\": 6, \"Response\": -0.000699138967320323}, {\"Component\": \"Component 8\", \"ComponentIndex\": 8, \"Digit\": 7, \"Response\": 0.008800803683698177}, {\"Component\": \"Component 8\", \"ComponentIndex\": 8, \"Digit\": 8, \"Response\": -0.000370604480849579}, {\"Component\": \"Component 8\", \"ComponentIndex\": 8, \"Digit\": 9, \"Response\": 0.00036109090433456004}, {\"Component\": \"Component 9\", \"ComponentIndex\": 9, \"Digit\": 0, \"Response\": -0.004332617856562138}, {\"Component\": \"Component 9\", \"ComponentIndex\": 9, \"Digit\": 1, \"Response\": 0.009679173119366169}, {\"Component\": \"Component 9\", \"ComponentIndex\": 9, \"Digit\": 2, \"Response\": -0.007536312099546194}, {\"Component\": \"Component 9\", \"ComponentIndex\": 9, \"Digit\": 3, \"Response\": -0.0004372516123112291}, {\"Component\": \"Component 9\", \"ComponentIndex\": 9, \"Digit\": 4, \"Response\": -0.0006271336460486054}, {\"Component\": \"Component 9\", \"ComponentIndex\": 9, \"Digit\": 5, \"Response\": -0.002143322955816984}, {\"Component\": \"Component 9\", \"ComponentIndex\": 9, \"Digit\": 6, \"Response\": -0.0009581189369782805}, {\"Component\": \"Component 9\", \"ComponentIndex\": 9, \"Digit\": 7, \"Response\": 0.003159937681630254}, {\"Component\": \"Component 9\", \"ComponentIndex\": 9, \"Digit\": 8, \"Response\": -0.0023140558041632175}, {\"Component\": \"Component 9\", \"ComponentIndex\": 9, \"Digit\": 9, \"Response\": 0.005288048647344112}, {\"Component\": \"Component 10\", \"ComponentIndex\": 10, \"Digit\": 0, \"Response\": -0.0038083598483353853}, {\"Component\": \"Component 10\", \"ComponentIndex\": 10, \"Digit\": 1, \"Response\": -0.0040293182246387005}, {\"Component\": \"Component 10\", \"ComponentIndex\": 10, \"Digit\": 2, \"Response\": 0.002237007487565279}, {\"Component\": \"Component 10\", \"ComponentIndex\": 10, \"Digit\": 3, \"Response\": -0.00029080259264446795}, {\"Component\": \"Component 10\", \"ComponentIndex\": 10, \"Digit\": 4, \"Response\": -0.0010451553389430046}, {\"Component\": \"Component 10\", \"ComponentIndex\": 10, \"Digit\": 5, \"Response\": -0.00426652655005455}, {\"Component\": \"Component 10\", \"ComponentIndex\": 10, \"Digit\": 6, \"Response\": 0.0027354967314749956}, {\"Component\": \"Component 10\", \"ComponentIndex\": 10, \"Digit\": 7, \"Response\": -0.002330120885744691}, {\"Component\": \"Component 10\", \"ComponentIndex\": 10, \"Digit\": 8, \"Response\": -0.001112314173951745}, {\"Component\": \"Component 10\", \"ComponentIndex\": 10, \"Digit\": 9, \"Response\": 0.003496831748634577}]}}, {\"theme\": \"dark\", \"mode\": \"vega-lite\"});\n",
       "</script>"
      ],
      "text/plain": [
       "alt.VConcatChart(...)"
      ]
     },
     "execution_count": 6,
     "metadata": {},
     "output_type": "execute_result"
    }
   ],
   "source": [
    "alt.vconcat(*viz.values())"
   ]
  },
  {
   "cell_type": "code",
   "execution_count": null,
   "id": "2f8aa972",
   "metadata": {},
   "outputs": [],
   "source": []
  }
 ],
 "metadata": {
  "kernelspec": {
   "display_name": ".venv",
   "language": "python",
   "name": "python3"
  },
  "language_info": {
   "codemirror_mode": {
    "name": "ipython",
    "version": 3
   },
   "file_extension": ".py",
   "mimetype": "text/x-python",
   "name": "python",
   "nbconvert_exporter": "python",
   "pygments_lexer": "ipython3",
   "version": "3.11.11"
  }
 },
 "nbformat": 4,
 "nbformat_minor": 5
}
