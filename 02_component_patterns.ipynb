{
 "cells": [
  {
   "cell_type": "code",
   "execution_count": 1,
   "id": "cca7bb91",
   "metadata": {},
   "outputs": [
    {
     "data": {
      "text/plain": [
       "RendererRegistry.enable('default')"
      ]
     },
     "execution_count": 1,
     "metadata": {},
     "output_type": "execute_result"
    }
   ],
   "source": [
    "import altair as alt\n",
    "from component_patterns import analyze_number_embeddings\n",
    "from embeddings_analysis import EmbeddingsLoader\n",
    "\n",
    "alt.renderers.set_embed_options(theme='dark')"
   ]
  },
  {
   "cell_type": "code",
   "execution_count": 2,
   "id": "ee41c20c",
   "metadata": {},
   "outputs": [],
   "source": [
    "model_id = \"allenai/OLMo-2-1124-7B\""
   ]
  },
  {
   "cell_type": "code",
   "execution_count": 3,
   "id": "cdeccb45",
   "metadata": {},
   "outputs": [
    {
     "data": {
      "application/vnd.jupyter.widget-view+json": {
       "model_id": "882af0ff478d4e17ad73bc034db72c6d",
       "version_major": 2,
       "version_minor": 0
      },
      "text/plain": [
       "Loading checkpoint shards:   0%|          | 0/6 [00:00<?, ?it/s]"
      ]
     },
     "metadata": {},
     "output_type": "display_data"
    }
   ],
   "source": [
    "def make_viz():\n",
    "    loader = EmbeddingsLoader(model_id)\n",
    "    embeddings = loader.numbers()\n",
    "    return analyze_number_embeddings(embeddings)\n",
    "\n",
    "viz = make_viz()"
   ]
  },
  {
   "cell_type": "code",
   "execution_count": null,
   "id": "a48a90f2",
   "metadata": {},
   "outputs": [],
   "source": []
  },
  {
   "cell_type": "code",
   "execution_count": 4,
   "id": "94843367",
   "metadata": {},
   "outputs": [
    {
     "data": {
      "text/plain": [
       "{'component_pattern': alt.LayerChart(...),\n",
       " 'digit_heatmap': alt.LayerChart(...)}"
      ]
     },
     "execution_count": 4,
     "metadata": {},
     "output_type": "execute_result"
    }
   ],
   "source": [
    "viz"
   ]
  },
  {
   "cell_type": "code",
   "execution_count": null,
   "id": "f61d3abc",
   "metadata": {},
   "outputs": [
    {
     "data": {
      "text/html": [
       "\n",
       "<style>\n",
       "  #altair-viz-e17a3fd25ba544fb8a067bb39da25f2f.vega-embed {\n",
       "    width: 100%;\n",
       "    display: flex;\n",
       "  }\n",
       "\n",
       "  #altair-viz-e17a3fd25ba544fb8a067bb39da25f2f.vega-embed details,\n",
       "  #altair-viz-e17a3fd25ba544fb8a067bb39da25f2f.vega-embed details summary {\n",
       "    position: relative;\n",
       "  }\n",
       "</style>\n",
       "<div id=\"altair-viz-e17a3fd25ba544fb8a067bb39da25f2f\"></div>\n",
       "<script type=\"text/javascript\">\n",
       "  var VEGA_DEBUG = (typeof VEGA_DEBUG == \"undefined\") ? {} : VEGA_DEBUG;\n",
       "  (function(spec, embedOpt){\n",
       "    let outputDiv = document.currentScript.previousElementSibling;\n",
       "    if (outputDiv.id !== \"altair-viz-e17a3fd25ba544fb8a067bb39da25f2f\") {\n",
       "      outputDiv = document.getElementById(\"altair-viz-e17a3fd25ba544fb8a067bb39da25f2f\");\n",
       "    }\n",
       "\n",
       "    const paths = {\n",
       "      \"vega\": \"https://cdn.jsdelivr.net/npm/vega@5?noext\",\n",
       "      \"vega-lib\": \"https://cdn.jsdelivr.net/npm/vega-lib?noext\",\n",
       "      \"vega-lite\": \"https://cdn.jsdelivr.net/npm/vega-lite@5.20.1?noext\",\n",
       "      \"vega-embed\": \"https://cdn.jsdelivr.net/npm/vega-embed@6?noext\",\n",
       "    };\n",
       "\n",
       "    function maybeLoadScript(lib, version) {\n",
       "      var key = `${lib.replace(\"-\", \"\")}_version`;\n",
       "      return (VEGA_DEBUG[key] == version) ?\n",
       "        Promise.resolve(paths[lib]) :\n",
       "        new Promise(function(resolve, reject) {\n",
       "          var s = document.createElement('script');\n",
       "          document.getElementsByTagName(\"head\")[0].appendChild(s);\n",
       "          s.async = true;\n",
       "          s.onload = () => {\n",
       "            VEGA_DEBUG[key] = version;\n",
       "            return resolve(paths[lib]);\n",
       "          };\n",
       "          s.onerror = () => reject(`Error loading script: ${paths[lib]}`);\n",
       "          s.src = paths[lib];\n",
       "        });\n",
       "    }\n",
       "\n",
       "    function showError(err) {\n",
       "      outputDiv.innerHTML = `<div class=\"error\" style=\"color:red;\">${err}</div>`;\n",
       "      throw err;\n",
       "    }\n",
       "\n",
       "    function displayChart(vegaEmbed) {\n",
       "      vegaEmbed(outputDiv, spec, embedOpt)\n",
       "        .catch(err => showError(`Javascript Error: ${err.message}<br>This usually means there's a typo in your chart specification. See the javascript console for the full traceback.`));\n",
       "    }\n",
       "\n",
       "    if(typeof define === \"function\" && define.amd) {\n",
       "      requirejs.config({paths});\n",
       "      let deps = [\"vega-embed\"];\n",
       "      require(deps, displayChart, err => showError(`Error loading script: ${err.message}`));\n",
       "    } else {\n",
       "      maybeLoadScript(\"vega\", \"5\")\n",
       "        .then(() => maybeLoadScript(\"vega-lite\", \"5.20.1\"))\n",
       "        .then(() => maybeLoadScript(\"vega-embed\", \"6\"))\n",
       "        .catch(showError)\n",
       "        .then(() => displayChart(vegaEmbed));\n",
       "    }\n",
       "  })({\"config\": {\"view\": {\"continuousWidth\": 300, \"continuousHeight\": 300}}, \"layer\": [{\"mark\": {\"type\": \"rect\"}, \"encoding\": {\"color\": {\"field\": \"Response\", \"legend\": {\"labelFontSize\": 12, \"titleFontSize\": 12}, \"scale\": {\"domain\": [-0.3, 0.3], \"scheme\": \"blueorange\"}, \"type\": \"quantitative\"}, \"tooltip\": [{\"field\": \"Component\", \"type\": \"nominal\"}, {\"field\": \"Digit\", \"type\": \"quantitative\"}, {\"field\": \"Response\", \"type\": \"quantitative\"}], \"x\": {\"axis\": {\"labelFontSize\": 12, \"titleFontSize\": 14}, \"field\": \"Digit\", \"title\": \"Ones Digit\", \"type\": \"ordinal\"}, \"y\": {\"axis\": {\"labelFontSize\": 12, \"titleFontSize\": 14}, \"field\": \"Component\", \"sort\": {\"field\": \"ComponentIndex\"}, \"title\": \"Component\", \"type\": \"nominal\"}}, \"name\": \"view_1\", \"title\": {\"text\": \"(allenai/OLMo-2-1124-7B) Number embeddings between 0-999: How Components Encode Digit Patterns\", \"fontSize\": 16}}, {\"mark\": {\"type\": \"text\", \"color\": \"black\", \"fontSize\": 10}, \"encoding\": {\"text\": {\"field\": \"Response\", \"format\": \".2f\", \"type\": \"quantitative\"}, \"x\": {\"field\": \"Digit\", \"type\": \"ordinal\"}, \"y\": {\"field\": \"Component\", \"type\": \"nominal\"}}}], \"data\": {\"name\": \"data-3792f8e1cd5caf400e2567cf16b6613a\"}, \"height\": 400, \"params\": [{\"name\": \"param_2\", \"select\": {\"type\": \"interval\", \"encodings\": [\"x\", \"y\"]}, \"bind\": \"scales\", \"views\": [\"view_1\"]}], \"width\": 600, \"$schema\": \"https://vega.github.io/schema/vega-lite/v5.20.1.json\", \"datasets\": {\"data-3792f8e1cd5caf400e2567cf16b6613a\": [{\"Component\": \"Component 1\", \"ComponentIndex\": 1, \"Digit\": 0, \"Response\": -0.009286557324230671}, {\"Component\": \"Component 1\", \"ComponentIndex\": 1, \"Digit\": 1, \"Response\": 0.005512307398021221}, {\"Component\": \"Component 1\", \"ComponentIndex\": 1, \"Digit\": 2, \"Response\": 0.00882661435753107}, {\"Component\": \"Component 1\", \"ComponentIndex\": 1, \"Digit\": 3, \"Response\": -0.0022091777063906193}, {\"Component\": \"Component 1\", \"ComponentIndex\": 1, \"Digit\": 4, \"Response\": -0.0021220233757048845}, {\"Component\": \"Component 1\", \"ComponentIndex\": 1, \"Digit\": 5, \"Response\": -0.005820722784847021}, {\"Component\": \"Component 1\", \"ComponentIndex\": 1, \"Digit\": 6, \"Response\": 0.004306106362491846}, {\"Component\": \"Component 1\", \"ComponentIndex\": 1, \"Digit\": 7, \"Response\": 0.016825377941131592}, {\"Component\": \"Component 1\", \"ComponentIndex\": 1, \"Digit\": 8, \"Response\": -0.0034978599287569523}, {\"Component\": \"Component 1\", \"ComponentIndex\": 1, \"Digit\": 9, \"Response\": -0.0015335765201598406}, {\"Component\": \"Component 2\", \"ComponentIndex\": 2, \"Digit\": 0, \"Response\": -0.008164669387042522}, {\"Component\": \"Component 2\", \"ComponentIndex\": 2, \"Digit\": 1, \"Response\": 0.00043221437954343855}, {\"Component\": \"Component 2\", \"ComponentIndex\": 2, \"Digit\": 2, \"Response\": -0.006623788271099329}, {\"Component\": \"Component 2\", \"ComponentIndex\": 2, \"Digit\": 3, \"Response\": 0.01052544079720974}, {\"Component\": \"Component 2\", \"ComponentIndex\": 2, \"Digit\": 4, \"Response\": -0.003993695601820946}, {\"Component\": \"Component 2\", \"ComponentIndex\": 2, \"Digit\": 5, \"Response\": -0.012380075640976429}, {\"Component\": \"Component 2\", \"ComponentIndex\": 2, \"Digit\": 6, \"Response\": -0.0009169286931864917}, {\"Component\": \"Component 2\", \"ComponentIndex\": 2, \"Digit\": 7, \"Response\": -0.005161842796951532}, {\"Component\": \"Component 2\", \"ComponentIndex\": 2, \"Digit\": 8, \"Response\": 0.006820741109549999}, {\"Component\": \"Component 2\", \"ComponentIndex\": 2, \"Digit\": 9, \"Response\": -0.0007881183410063386}, {\"Component\": \"Component 3\", \"ComponentIndex\": 3, \"Digit\": 0, \"Response\": -0.005389516241848469}, {\"Component\": \"Component 3\", \"ComponentIndex\": 3, \"Digit\": 1, \"Response\": 0.0028170410078018904}, {\"Component\": \"Component 3\", \"ComponentIndex\": 3, \"Digit\": 2, \"Response\": -0.0060489666648209095}, {\"Component\": \"Component 3\", \"ComponentIndex\": 3, \"Digit\": 3, \"Response\": 0.008140170946717262}, {\"Component\": \"Component 3\", \"ComponentIndex\": 3, \"Digit\": 4, \"Response\": 0.00854748860001564}, {\"Component\": \"Component 3\", \"ComponentIndex\": 3, \"Digit\": 5, \"Response\": 0.0010510154534131289}, {\"Component\": \"Component 3\", \"ComponentIndex\": 3, \"Digit\": 6, \"Response\": 0.0006745227728970349}, {\"Component\": \"Component 3\", \"ComponentIndex\": 3, \"Digit\": 7, \"Response\": -0.004192070569843054}, {\"Component\": \"Component 3\", \"ComponentIndex\": 3, \"Digit\": 8, \"Response\": 0.0008523128926753998}, {\"Component\": \"Component 3\", \"ComponentIndex\": 3, \"Digit\": 9, \"Response\": 0.00411219010129571}, {\"Component\": \"Component 4\", \"ComponentIndex\": 4, \"Digit\": 0, \"Response\": -0.0023542814888060093}, {\"Component\": \"Component 4\", \"ComponentIndex\": 4, \"Digit\": 1, \"Response\": 0.0001859713374869898}, {\"Component\": \"Component 4\", \"ComponentIndex\": 4, \"Digit\": 2, \"Response\": 0.0037343769799917936}, {\"Component\": \"Component 4\", \"ComponentIndex\": 4, \"Digit\": 3, \"Response\": 0.003918333910405636}, {\"Component\": \"Component 4\", \"ComponentIndex\": 4, \"Digit\": 4, \"Response\": 0.005284534767270088}, {\"Component\": \"Component 4\", \"ComponentIndex\": 4, \"Digit\": 5, \"Response\": 0.011362597346305847}, {\"Component\": \"Component 4\", \"ComponentIndex\": 4, \"Digit\": 6, \"Response\": 0.00033427850576117635}, {\"Component\": \"Component 4\", \"ComponentIndex\": 4, \"Digit\": 7, \"Response\": 0.011488844640552998}, {\"Component\": \"Component 4\", \"ComponentIndex\": 4, \"Digit\": 8, \"Response\": 0.0010064867092296481}, {\"Component\": \"Component 4\", \"ComponentIndex\": 4, \"Digit\": 9, \"Response\": 0.005331917200237513}, {\"Component\": \"Component 5\", \"ComponentIndex\": 5, \"Digit\": 0, \"Response\": -0.0009287184220738709}, {\"Component\": \"Component 5\", \"ComponentIndex\": 5, \"Digit\": 1, \"Response\": 0.0010390356183052063}, {\"Component\": \"Component 5\", \"ComponentIndex\": 5, \"Digit\": 2, \"Response\": -0.006877663545310497}, {\"Component\": \"Component 5\", \"ComponentIndex\": 5, \"Digit\": 3, \"Response\": 0.008541908115148544}, {\"Component\": \"Component 5\", \"ComponentIndex\": 5, \"Digit\": 4, \"Response\": -0.003156763268634677}, {\"Component\": \"Component 5\", \"ComponentIndex\": 5, \"Digit\": 5, \"Response\": -0.0007587358122691512}, {\"Component\": \"Component 5\", \"ComponentIndex\": 5, \"Digit\": 6, \"Response\": -0.0037368133198469877}, {\"Component\": \"Component 5\", \"ComponentIndex\": 5, \"Digit\": 7, \"Response\": -0.00371633842587471}, {\"Component\": \"Component 5\", \"ComponentIndex\": 5, \"Digit\": 8, \"Response\": -0.005080169998109341}, {\"Component\": \"Component 5\", \"ComponentIndex\": 5, \"Digit\": 9, \"Response\": 0.004800494760274887}, {\"Component\": \"Component 6\", \"ComponentIndex\": 6, \"Digit\": 0, \"Response\": -0.0020428765565156937}, {\"Component\": \"Component 6\", \"ComponentIndex\": 6, \"Digit\": 1, \"Response\": 0.003971490543335676}, {\"Component\": \"Component 6\", \"ComponentIndex\": 6, \"Digit\": 2, \"Response\": -0.0017430402804166079}, {\"Component\": \"Component 6\", \"ComponentIndex\": 6, \"Digit\": 3, \"Response\": 0.0021553055848926306}, {\"Component\": \"Component 6\", \"ComponentIndex\": 6, \"Digit\": 4, \"Response\": 0.00431761983782053}, {\"Component\": \"Component 6\", \"ComponentIndex\": 6, \"Digit\": 5, \"Response\": 0.0024347580038011074}, {\"Component\": \"Component 6\", \"ComponentIndex\": 6, \"Digit\": 6, \"Response\": 0.0041070966981351376}, {\"Component\": \"Component 6\", \"ComponentIndex\": 6, \"Digit\": 7, \"Response\": 0.0035321549512445927}, {\"Component\": \"Component 6\", \"ComponentIndex\": 6, \"Digit\": 8, \"Response\": -0.0001508455752627924}, {\"Component\": \"Component 6\", \"ComponentIndex\": 6, \"Digit\": 9, \"Response\": 0.0020646967459470034}, {\"Component\": \"Component 7\", \"ComponentIndex\": 7, \"Digit\": 0, \"Response\": -0.0008405130356550217}, {\"Component\": \"Component 7\", \"ComponentIndex\": 7, \"Digit\": 1, \"Response\": 0.005880926735699177}, {\"Component\": \"Component 7\", \"ComponentIndex\": 7, \"Digit\": 2, \"Response\": 0.0004171336186118424}, {\"Component\": \"Component 7\", \"ComponentIndex\": 7, \"Digit\": 3, \"Response\": -0.0060091582126915455}, {\"Component\": \"Component 7\", \"ComponentIndex\": 7, \"Digit\": 4, \"Response\": -0.0035863607190549374}, {\"Component\": \"Component 7\", \"ComponentIndex\": 7, \"Digit\": 5, \"Response\": 0.00896616280078888}, {\"Component\": \"Component 7\", \"ComponentIndex\": 7, \"Digit\": 6, \"Response\": -0.0025986803229898214}, {\"Component\": \"Component 7\", \"ComponentIndex\": 7, \"Digit\": 7, \"Response\": -0.003119633998721838}, {\"Component\": \"Component 7\", \"ComponentIndex\": 7, \"Digit\": 8, \"Response\": -0.006425364408642054}, {\"Component\": \"Component 7\", \"ComponentIndex\": 7, \"Digit\": 9, \"Response\": 0.00791116151958704}, {\"Component\": \"Component 8\", \"ComponentIndex\": 8, \"Digit\": 0, \"Response\": -0.001726676942780614}, {\"Component\": \"Component 8\", \"ComponentIndex\": 8, \"Digit\": 1, \"Response\": 0.002289576455950737}, {\"Component\": \"Component 8\", \"ComponentIndex\": 8, \"Digit\": 2, \"Response\": -0.01262044720351696}, {\"Component\": \"Component 8\", \"ComponentIndex\": 8, \"Digit\": 3, \"Response\": 0.008256299421191216}, {\"Component\": \"Component 8\", \"ComponentIndex\": 8, \"Digit\": 4, \"Response\": -0.007000951562076807}, {\"Component\": \"Component 8\", \"ComponentIndex\": 8, \"Digit\": 5, \"Response\": 0.0012966750655323267}, {\"Component\": \"Component 8\", \"ComponentIndex\": 8, \"Digit\": 6, \"Response\": -0.000699138967320323}, {\"Component\": \"Component 8\", \"ComponentIndex\": 8, \"Digit\": 7, \"Response\": 0.008800803683698177}, {\"Component\": \"Component 8\", \"ComponentIndex\": 8, \"Digit\": 8, \"Response\": -0.000370604480849579}, {\"Component\": \"Component 8\", \"ComponentIndex\": 8, \"Digit\": 9, \"Response\": 0.00036109090433456004}, {\"Component\": \"Component 9\", \"ComponentIndex\": 9, \"Digit\": 0, \"Response\": -0.004332617856562138}, {\"Component\": \"Component 9\", \"ComponentIndex\": 9, \"Digit\": 1, \"Response\": 0.009679173119366169}, {\"Component\": \"Component 9\", \"ComponentIndex\": 9, \"Digit\": 2, \"Response\": -0.007536312099546194}, {\"Component\": \"Component 9\", \"ComponentIndex\": 9, \"Digit\": 3, \"Response\": -0.0004372516123112291}, {\"Component\": \"Component 9\", \"ComponentIndex\": 9, \"Digit\": 4, \"Response\": -0.0006271336460486054}, {\"Component\": \"Component 9\", \"ComponentIndex\": 9, \"Digit\": 5, \"Response\": -0.002143322955816984}, {\"Component\": \"Component 9\", \"ComponentIndex\": 9, \"Digit\": 6, \"Response\": -0.0009581189369782805}, {\"Component\": \"Component 9\", \"ComponentIndex\": 9, \"Digit\": 7, \"Response\": 0.003159937681630254}, {\"Component\": \"Component 9\", \"ComponentIndex\": 9, \"Digit\": 8, \"Response\": -0.0023140558041632175}, {\"Component\": \"Component 9\", \"ComponentIndex\": 9, \"Digit\": 9, \"Response\": 0.005288048647344112}, {\"Component\": \"Component 10\", \"ComponentIndex\": 10, \"Digit\": 0, \"Response\": -0.0038083598483353853}, {\"Component\": \"Component 10\", \"ComponentIndex\": 10, \"Digit\": 1, \"Response\": -0.0040293182246387005}, {\"Component\": \"Component 10\", \"ComponentIndex\": 10, \"Digit\": 2, \"Response\": 0.002237007487565279}, {\"Component\": \"Component 10\", \"ComponentIndex\": 10, \"Digit\": 3, \"Response\": -0.00029080259264446795}, {\"Component\": \"Component 10\", \"ComponentIndex\": 10, \"Digit\": 4, \"Response\": -0.0010451553389430046}, {\"Component\": \"Component 10\", \"ComponentIndex\": 10, \"Digit\": 5, \"Response\": -0.00426652655005455}, {\"Component\": \"Component 10\", \"ComponentIndex\": 10, \"Digit\": 6, \"Response\": 0.0027354967314749956}, {\"Component\": \"Component 10\", \"ComponentIndex\": 10, \"Digit\": 7, \"Response\": -0.002330120885744691}, {\"Component\": \"Component 10\", \"ComponentIndex\": 10, \"Digit\": 8, \"Response\": -0.001112314173951745}, {\"Component\": \"Component 10\", \"ComponentIndex\": 10, \"Digit\": 9, \"Response\": 0.003496831748634577}]}}, {\"theme\": \"dark\", \"mode\": \"vega-lite\"});\n",
       "</script>"
      ],
      "text/plain": [
       "alt.LayerChart(...)"
      ]
     },
     "execution_count": 5,
     "metadata": {},
     "output_type": "execute_result"
    }
   ],
   "source": [
    "alt.vconcat(*viz.values())"
   ]
  },
  {
   "cell_type": "code",
   "execution_count": null,
   "id": "2f8aa972",
   "metadata": {},
   "outputs": [],
   "source": []
  }
 ],
 "metadata": {
  "kernelspec": {
   "display_name": ".venv",
   "language": "python",
   "name": "python3"
  },
  "language_info": {
   "codemirror_mode": {
    "name": "ipython",
    "version": 3
   },
   "file_extension": ".py",
   "mimetype": "text/x-python",
   "name": "python",
   "nbconvert_exporter": "python",
   "pygments_lexer": "ipython3",
   "version": "3.11.11"
  }
 },
 "nbformat": 4,
 "nbformat_minor": 5
}
